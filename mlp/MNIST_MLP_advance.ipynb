{
 "cells": [
  {
   "cell_type": "code",
   "execution_count": 24,
   "metadata": {},
   "outputs": [],
   "source": [
    "%matplotlib inline\n",
    "import matplotlib.pyplot as plt\n",
    "\n",
    "import keras\n",
    "from keras.models import Model, Sequential\n",
    "from keras.layers import *\n",
    "from keras.optimizers import Adam\n",
    "\n",
    "import tensorflow as tf\n",
    "import numpy as np"
   ]
  },
  {
   "cell_type": "code",
   "execution_count": 26,
   "metadata": {},
   "outputs": [
    {
     "name": "stdout",
     "output_type": "stream",
     "text": [
      "2.2.0\n",
      "1.8.0\n"
     ]
    }
   ],
   "source": [
    "print(keras.__version__)\n",
    "print(tf.__version__)"
   ]
  },
  {
   "cell_type": "code",
   "execution_count": 27,
   "metadata": {
    "collapsed": true
   },
   "outputs": [],
   "source": [
    "from tensorflow.python.keras.datasets import mnist\n",
    "\n",
    "(x_train, y_train), (x_test, y_test) = mnist.load_data()"
   ]
  },
  {
   "cell_type": "code",
   "execution_count": 28,
   "metadata": {},
   "outputs": [
    {
     "name": "stdout",
     "output_type": "stream",
     "text": [
      "(60000, 784) train samples\n",
      "(10000, 784) test samples\n"
     ]
    },
    {
     "data": {
      "text/plain": [
       "array([0., 0., 0., 0., 0., 1., 0., 0., 0., 0.])"
      ]
     },
     "execution_count": 28,
     "metadata": {},
     "output_type": "execute_result"
    }
   ],
   "source": [
    "x_train = x_train.reshape(60000, 784)\n",
    "x_test = x_test.reshape(10000, 784)\n",
    "x_train = x_train.astype('float32')\n",
    "x_test = x_test.astype('float32')\n",
    "x_train /= 255\n",
    "x_test /= 255\n",
    "print(x_train.shape, 'train samples')\n",
    "print(x_test.shape, 'test samples')\n",
    "\n",
    "n_classes = 10\n",
    "# convert class vectors to binary One Hot Encoded\n",
    "y_train = tf.keras.utils.to_categorical(y_train, n_classes)\n",
    "y_test = tf.keras.utils.to_categorical(y_test, n_classes)\n",
    "y_train[0]"
   ]
  },
  {
   "cell_type": "code",
   "execution_count": 29,
   "metadata": {
    "collapsed": true
   },
   "outputs": [],
   "source": [
    "# Training Parameters for basic MNIST\n",
    "learning_rate = 0.1 \n",
    "training_epochs = 10\n",
    "batch_size = 100\n",
    "\n",
    "# Network Parameters\n",
    "n_input = 784 # MNIST data input (img shape: 28*28 flattened to be 784)\n",
    "n_hidden_1 = 384 # 1st layer number of neurons\n",
    "n_hidden_2 = 100 # 2nd layer number of neurons\n",
    "n_hidden_3 = 100 # 2nd layer number of neurons\n",
    "n_classes = 10 # MNIST classes for prediction(digits 0-9 )"
   ]
  },
  {
   "cell_type": "code",
   "execution_count": 30,
   "metadata": {
    "collapsed": true
   },
   "outputs": [],
   "source": [
    "Inp = Input(shape=(784,))\n",
    "x = Dense(n_hidden_1, activation='relu', name = \"Dense_1\")(Inp)\n",
    "x = Dense(n_hidden_2, activation='relu', name = \"Dense_2\")(x)\n",
    "x = Dense(n_hidden_3, activation='relu', name = \"Dense_3\")(x)\n",
    "x = Dense(n_hidden_3, activation='relu', name = \"Dense_4\")(x)\n",
    "output = Dense(n_classes, activation='softmax', name = \"Outputlayer\")(x)"
   ]
  },
  {
   "cell_type": "code",
   "execution_count": 31,
   "metadata": {
    "collapsed": true
   },
   "outputs": [],
   "source": [
    "# This creates a model that includes our input, 3 dense hidden layers, output layer\n",
    "model = Model(Inp, output)"
   ]
  },
  {
   "cell_type": "code",
   "execution_count": 32,
   "metadata": {},
   "outputs": [
    {
     "name": "stdout",
     "output_type": "stream",
     "text": [
      "_________________________________________________________________\n",
      "Layer (type)                 Output Shape              Param #   \n",
      "=================================================================\n",
      "input_1 (InputLayer)         (None, 784)               0         \n",
      "_________________________________________________________________\n",
      "Dense_1 (Dense)              (None, 384)               301440    \n",
      "_________________________________________________________________\n",
      "Dense_2 (Dense)              (None, 100)               38500     \n",
      "_________________________________________________________________\n",
      "Dense_3 (Dense)              (None, 100)               10100     \n",
      "_________________________________________________________________\n",
      "Dense_4 (Dense)              (None, 100)               10100     \n",
      "_________________________________________________________________\n",
      "Outputlayer (Dense)          (None, 10)                1010      \n",
      "=================================================================\n",
      "Total params: 361,150\n",
      "Trainable params: 361,150\n",
      "Non-trainable params: 0\n",
      "_________________________________________________________________\n"
     ]
    }
   ],
   "source": [
    "model.summary()"
   ]
  },
  {
   "cell_type": "code",
   "execution_count": 33,
   "metadata": {
    "collapsed": true
   },
   "outputs": [],
   "source": [
    "model.compile(loss='categorical_crossentropy',\n",
    "              optimizer='SGD',\n",
    "              metrics=['accuracy'])"
   ]
  },
  {
   "cell_type": "code",
   "execution_count": 34,
   "metadata": {
    "collapsed": true
   },
   "outputs": [],
   "source": [
    "#Settting the learning rate\n",
    "K.set_value(model.optimizer.lr, learning_rate)"
   ]
  },
  {
   "cell_type": "code",
   "execution_count": 35,
   "metadata": {},
   "outputs": [
    {
     "name": "stdout",
     "output_type": "stream",
     "text": [
      "Train on 60000 samples, validate on 10000 samples\n",
      "Epoch 1/10\n",
      "60000/60000 [==============================] - 6s 105us/step - loss: 0.4282 - acc: 0.8685 - val_loss: 0.1789 - val_acc: 0.9480\n",
      "Epoch 2/10\n",
      "60000/60000 [==============================] - 5s 77us/step - loss: 0.1450 - acc: 0.9556 - val_loss: 0.1166 - val_acc: 0.9640\n",
      "Epoch 3/10\n",
      "60000/60000 [==============================] - 5s 75us/step - loss: 0.0974 - acc: 0.9707 - val_loss: 0.1009 - val_acc: 0.9668\n",
      "Epoch 4/10\n",
      "60000/60000 [==============================] - 4s 68us/step - loss: 0.0715 - acc: 0.9779 - val_loss: 0.0822 - val_acc: 0.9731\n",
      "Epoch 5/10\n",
      "60000/60000 [==============================] - 4s 70us/step - loss: 0.0547 - acc: 0.9832 - val_loss: 0.0842 - val_acc: 0.9733\n",
      "Epoch 6/10\n",
      "60000/60000 [==============================] - 4s 70us/step - loss: 0.0415 - acc: 0.9873 - val_loss: 0.0858 - val_acc: 0.9733\n",
      "Epoch 7/10\n",
      "60000/60000 [==============================] - 4s 71us/step - loss: 0.0315 - acc: 0.9900 - val_loss: 0.0774 - val_acc: 0.9754\n",
      "Epoch 8/10\n",
      "60000/60000 [==============================] - 4s 68us/step - loss: 0.0255 - acc: 0.9922 - val_loss: 0.0818 - val_acc: 0.9759\n",
      "Epoch 9/10\n",
      "60000/60000 [==============================] - 4s 67us/step - loss: 0.0191 - acc: 0.9945 - val_loss: 0.0758 - val_acc: 0.9786\n",
      "Epoch 10/10\n",
      "60000/60000 [==============================] - 5s 81us/step - loss: 0.0132 - acc: 0.9964 - val_loss: 0.0791 - val_acc: 0.9776\n"
     ]
    }
   ],
   "source": [
    "history = model.fit(x_train, y_train,\n",
    "                    batch_size=batch_size,\n",
    "                    epochs=training_epochs,\n",
    "                    verbose=1, # This is for what we want it to display out as it trains \n",
    "                    validation_data=(x_test, y_test))"
   ]
  },
  {
   "cell_type": "code",
   "execution_count": 36,
   "metadata": {
    "collapsed": true
   },
   "outputs": [],
   "source": [
    "def plot_train(hist):\n",
    "    h = hist.history\n",
    "    if 'acc' in h:\n",
    "        meas='acc'\n",
    "        loc='lower right'\n",
    "    else:\n",
    "        meas='loss'\n",
    "        loc='upper right'\n",
    "    plt.plot(hist.history[meas])\n",
    "    plt.plot(hist.history['val_'+meas])\n",
    "    plt.title('model '+meas)\n",
    "    plt.ylabel(meas)\n",
    "    plt.xlabel('epoch')\n",
    "    plt.legend(['train', 'validation'], loc=loc)\n",
    "    "
   ]
  },
  {
   "cell_type": "code",
   "execution_count": 37,
   "metadata": {},
   "outputs": [
    {
     "data": {
      "image/png": "[encoded data removed]",
      "text/plain": [
       "<Figure size 432x288 with 1 Axes>"
      ]
     },
     "metadata": {},
     "output_type": "display_data"
    }
   ],
   "source": [
    "plot_train(history)"
   ]
  },
  {
   "cell_type": "markdown",
   "metadata": {},
   "source": [
    "### Now lets add dropput\n",
    "\n",
    "Dropout(0.3) = randomly dropout 30% of the units each pass through\n",
    "\n"
   ]
  },
  {
   "cell_type": "code",
   "execution_count": 38,
   "metadata": {
    "collapsed": true
   },
   "outputs": [],
   "source": [
    "Inp = Input(shape=(784,))\n",
    "x = Dense(n_hidden_1, activation='relu', name = \"Dense_1\")(Inp)\n",
    "x = Dropout(0.3)(x)\n",
    "x = Dense(n_hidden_2, activation='relu', name = \"Dense_2\")(x)\n",
    "x = Dropout(0.3)(x)\n",
    "x = Dense(n_hidden_3, activation='relu', name = \"Dense_3\")(x)\n",
    "output = Dense(n_classes, activation='softmax', name = \"Outputlayer\")(x)\n"
   ]
  },
  {
   "cell_type": "code",
   "execution_count": 39,
   "metadata": {},
   "outputs": [
    {
     "name": "stdout",
     "output_type": "stream",
     "text": [
      "_________________________________________________________________\n",
      "Layer (type)                 Output Shape              Param #   \n",
      "=================================================================\n",
      "input_2 (InputLayer)         (None, 784)               0         \n",
      "_________________________________________________________________\n",
      "Dense_1 (Dense)              (None, 384)               301440    \n",
      "_________________________________________________________________\n",
      "dropout_1 (Dropout)          (None, 384)               0         \n",
      "_________________________________________________________________\n",
      "Dense_2 (Dense)              (None, 100)               38500     \n",
      "_________________________________________________________________\n",
      "dropout_2 (Dropout)          (None, 100)               0         \n",
      "_________________________________________________________________\n",
      "Dense_3 (Dense)              (None, 100)               10100     \n",
      "_________________________________________________________________\n",
      "Outputlayer (Dense)          (None, 10)                1010      \n",
      "=================================================================\n",
      "Total params: 351,050\n",
      "Trainable params: 351,050\n",
      "Non-trainable params: 0\n",
      "_________________________________________________________________\n"
     ]
    }
   ],
   "source": [
    "model = Model(Inp, output)\n",
    "model.summary()"
   ]
  },
  {
   "cell_type": "code",
   "execution_count": 40,
   "metadata": {
    "collapsed": true
   },
   "outputs": [],
   "source": [
    "model.compile(loss='categorical_crossentropy',\n",
    "              optimizer='SGD',\n",
    "              metrics=['accuracy'])"
   ]
  },
  {
   "cell_type": "code",
   "execution_count": 41,
   "metadata": {},
   "outputs": [
    {
     "name": "stdout",
     "output_type": "stream",
     "text": [
      "Train on 60000 samples, validate on 10000 samples\n",
      "Epoch 1/10\n",
      "60000/60000 [==============================] - 4s 73us/step - loss: 1.4026 - acc: 0.5575 - val_loss: 0.5365 - val_acc: 0.8568\n",
      "Epoch 2/10\n",
      "60000/60000 [==============================] - 4s 67us/step - loss: 0.6207 - acc: 0.8097 - val_loss: 0.3628 - val_acc: 0.8957\n",
      "Epoch 3/10\n",
      "60000/60000 [==============================] - 4s 67us/step - loss: 0.4742 - acc: 0.8563 - val_loss: 0.3020 - val_acc: 0.9127\n",
      "Epoch 4/10\n",
      "60000/60000 [==============================] - 4s 72us/step - loss: 0.4094 - acc: 0.8766 - val_loss: 0.2666 - val_acc: 0.9210\n",
      "Epoch 5/10\n",
      "60000/60000 [==============================] - 4s 72us/step - loss: 0.3627 - acc: 0.8917 - val_loss: 0.2403 - val_acc: 0.9291\n",
      "Epoch 6/10\n",
      "60000/60000 [==============================] - 4s 73us/step - loss: 0.3308 - acc: 0.9027 - val_loss: 0.2195 - val_acc: 0.9342\n",
      "Epoch 7/10\n",
      "60000/60000 [==============================] - 4s 69us/step - loss: 0.3062 - acc: 0.9082 - val_loss: 0.2035 - val_acc: 0.9391\n",
      "Epoch 8/10\n",
      "60000/60000 [==============================] - 4s 67us/step - loss: 0.2838 - acc: 0.9152 - val_loss: 0.1889 - val_acc: 0.9429\n",
      "Epoch 9/10\n",
      "60000/60000 [==============================] - 4s 67us/step - loss: 0.2656 - acc: 0.9219 - val_loss: 0.1764 - val_acc: 0.9479\n",
      "Epoch 10/10\n",
      "60000/60000 [==============================] - 4s 69us/step - loss: 0.2486 - acc: 0.9261 - val_loss: 0.1677 - val_acc: 0.9502\n"
     ]
    }
   ],
   "source": [
    "history = model.fit(x_train, y_train,\n",
    "                    batch_size=batch_size,\n",
    "                    epochs=training_epochs,\n",
    "                    verbose=1, # This is for what we want it to display out as it trains \n",
    "                    validation_data=(x_test, y_test))"
   ]
  },
  {
   "cell_type": "code",
   "execution_count": 42,
   "metadata": {},
   "outputs": [
    {
     "data": {
      "image/png": "[encoded data removed]",
      "text/plain": [
       "<Figure size 432x288 with 1 Axes>"
      ]
     },
     "metadata": {},
     "output_type": "display_data"
    }
   ],
   "source": [
    "plot_train(history)"
   ]
  },
  {
   "cell_type": "code",
   "execution_count": 43,
   "metadata": {},
   "outputs": [
    {
     "data": {
      "text/plain": [
       "array([[3.10697033e-05, 1.95849429e-06, 9.09307040e-04, 3.84995452e-04,\n",
       "        2.01997096e-07, 2.58797786e-06, 7.51847740e-09, 9.98402774e-01,\n",
       "        6.44471811e-06, 2.60659726e-04],\n",
       "       [1.40846430e-04, 3.40821891e-04, 9.94388521e-01, 3.15912184e-03,\n",
       "        2.09010778e-07, 3.01564956e-04, 1.13039371e-03, 1.46199773e-06,\n",
       "        5.36877604e-04, 8.72221904e-08],\n",
       "       [1.25740735e-05, 9.95929539e-01, 8.73734883e-04, 2.93550198e-04,\n",
       "        2.74721737e-04, 1.43057434e-04, 4.93569882e-04, 9.16657504e-04,\n",
       "        9.71337955e-04, 9.12877804e-05],\n",
       "       [9.99298453e-01, 3.97594619e-07, 2.19873415e-04, 1.16159172e-05,\n",
       "        9.48574893e-07, 1.89747836e-04, 1.43730533e-04, 4.28594794e-05,\n",
       "        1.37101488e-05, 7.87281024e-05]], dtype=float32)"
      ]
     },
     "execution_count": 43,
     "metadata": {},
     "output_type": "execute_result"
    }
   ],
   "source": [
    "model.predict(x_test[0:4])"
   ]
  },
  {
   "cell_type": "code",
   "execution_count": 44,
   "metadata": {},
   "outputs": [
    {
     "name": "stdout",
     "output_type": "stream",
     "text": [
      "Test loss: 0.16773434303328394\n",
      "Test accuracy: 0.9502\n"
     ]
    }
   ],
   "source": [
    "score = model.evaluate(x_test, y_test, verbose=0)\n",
    "print('Test loss:', score[0])\n",
    "print('Test accuracy:', score[1])"
   ]
  },
  {
   "cell_type": "code",
   "execution_count": null,
   "metadata": {
    "collapsed": true
   },
   "outputs": [],
   "source": []
  }
 ],
 "metadata": {
  "kernelspec": {
   "display_name": "Python 3",
   "language": "python",
   "name": "python3"
  },
  "language_info": {
   "codemirror_mode": {
    "name": "ipython",
    "version": 3
   },
   "file_extension": ".py",
   "mimetype": "text/x-python",
   "name": "python",
   "nbconvert_exporter": "python",
   "pygments_lexer": "ipython3",
   "version": "3.5.2"
  }
 },
 "nbformat": 4,
 "nbformat_minor": 2
}
